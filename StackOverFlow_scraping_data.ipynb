{
 "cells": [
  {
   "cell_type": "code",
   "execution_count": 1,
   "id": "0ee09b33",
   "metadata": {},
   "outputs": [],
   "source": [
    "import pandas as pd\n",
    "import requests\n",
    "from bs4 import BeautifulSoup"
   ]
  },
  {
   "cell_type": "code",
   "execution_count": 2,
   "id": "7942280e",
   "metadata": {},
   "outputs": [],
   "source": [
    "headers = {\"User-Agent\": \"Mozilla/5.0 (X11; Linux x86_64) AppleWebKit/537.36 (KHTML, like Gecko) Chrome/51.0.2704.103 Safari/537.36\"}\n",
    "\n",
    "#here we are gone make empty list to append all the qu\n",
    "questions_list = []\n",
    "\n",
    "# here function to handle the tag and pages\n",
    "def getQuestion(tag, page):\n",
    "    # here are the link and the rest is systematic functions bs4\n",
    "    url = f\"https://stackoverflow.com/questions/tagged/{tag}?tab=newest&page={page}&pagesize=15\"\n",
    "    r = requests.get(url, headers=headers)\n",
    "    soup = BeautifulSoup(r.text, \"html.parser\")\n",
    "    \n",
    "    # here you have to find the parent div for what you are looking for\n",
    "    questions = soup.find_all('div', {'class': \"question-summary\"})\n",
    "\n",
    "    # here for loop to grab all the data qu by qu\n",
    "    for i in questions:\n",
    "        # dict do handle the output\n",
    "        question = {\n",
    "        \"tag\": tag,\n",
    "        \"title\": i.find('a', {'class': 'question-hyperlink'}).text,\n",
    "        \"link\": \"https://stackoverflow.com\" +  i.find('a', {'class': 'question-hyperlink'})['href'],\n",
    "        \"vote\": int(i.find('span', {'class': 'vote-count-post'}).text),\n",
    "        \"date\": i.find('span', {'class': 'relativetime'})['title']\n",
    "        }\n",
    "        # normal append built-in function\n",
    "        questions_list.append(question)\n",
    "    return questions_list"
   ]
  },
  {
   "cell_type": "code",
   "execution_count": 3,
   "id": "57ec52f0",
   "metadata": {},
   "outputs": [
    {
     "name": "stdout",
     "output_type": "stream",
     "text": [
      "Please enter which lang you wanna search in StackOverFlow: sQl\n",
      "Please enter how many pages you wanna scrap it: 5     \n"
     ]
    }
   ],
   "source": [
    "# input to ask the user about the lang and no of pages as well\n",
    "lang = input(\"Please enter which lang you wanna search in StackOverFlow: \").strip().lower()\n",
    "pages = int(input(\"Please enter how many pages you wanna scrap it: \"))\n",
    "for x in range(1, pages):    \n",
    "    getQuestion(lang, x)"
   ]
  },
  {
   "cell_type": "code",
   "execution_count": 4,
   "id": "5b2b76f3",
   "metadata": {},
   "outputs": [],
   "source": [
    "# here we collect all of data in dataframe by pandas\n",
    "df = pd.DataFrame(questions_list)\n",
    "\n",
    "# here we can save file to csv\n",
    "df.to_csv(\"StackOverFlow.csv\")"
   ]
  }
 ],
 "metadata": {
  "kernelspec": {
   "display_name": "Python 3",
   "language": "python",
   "name": "python3"
  },
  "language_info": {
   "codemirror_mode": {
    "name": "ipython",
    "version": 3
   },
   "file_extension": ".py",
   "mimetype": "text/x-python",
   "name": "python",
   "nbconvert_exporter": "python",
   "pygments_lexer": "ipython3",
   "version": "3.8.8"
  }
 },
 "nbformat": 4,
 "nbformat_minor": 5
}
